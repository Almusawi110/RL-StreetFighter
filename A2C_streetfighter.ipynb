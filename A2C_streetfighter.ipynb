{
 "cells": [
  {
   "cell_type": "markdown",
   "metadata": {},
   "source": [
    "# Train the agent to play Street Fighter with A2C Algorithm\n",
    "## Train and Evaluate\n",
    "Train the A2C model and evaluate its performance.\n",
    "## Set Hyperparameters\n",
    "Set the hyperparameters obtained from the best trail in PPO experiment and adjust for A2C."
   ]
  },
  {
   "cell_type": "code",
   "execution_count": 1,
   "metadata": {},
   "outputs": [
    {
     "name": "stderr",
     "output_type": "stream",
     "text": [
      "c:\\Users\\marya\\Documents\\Courses\\RL-project-streetFighter\\.venv\\lib\\site-packages\\tqdm\\auto.py:21: TqdmWarning: IProgress not found. Please update jupyter and ipywidgets. See https://ipywidgets.readthedocs.io/en/stable/user_install.html\n",
      "  from .autonotebook import tqdm as notebook_tqdm\n"
     ]
    },
    {
     "name": "stdout",
     "output_type": "stream",
     "text": [
      "ROM path: c:\\Users\\marya\\Documents\\Courses\\RL-project-streetFighter\\.venv\\lib\\site-packages\\retro/data\\stable\\StreetFighterIISpecialChampionEdition-Genesis\\rom.md\n",
      "Using cpu device\n",
      "Wrapping the env in a VecTransposeImage.\n",
      "Logging to ./logs/tensorboard-A2C/A2C_2\n",
      "-------------------------------------\n",
      "| rollout/              |           |\n",
      "|    ep_len_mean        | 1.02e+04  |\n",
      "|    ep_rew_mean        | 2.94e+04  |\n",
      "| time/                 |           |\n",
      "|    fps                | 158       |\n",
      "|    iterations         | 100       |\n",
      "|    time_elapsed       | 1782      |\n",
      "|    total_timesteps    | 281900    |\n",
      "| train/                |           |\n",
      "|    entropy_loss       | -8.32     |\n",
      "|    explained_variance | -3.24e-05 |\n",
      "|    learning_rate      | 5e-07     |\n",
      "|    n_updates          | 99        |\n",
      "|    policy_loss        | 207       |\n",
      "|    value_loss         | 4.55e+04  |\n",
      "-------------------------------------\n",
      "------------------------------------\n",
      "| rollout/              |          |\n",
      "|    ep_len_mean        | 1.05e+04 |\n",
      "|    ep_rew_mean        | 3.03e+04 |\n",
      "| time/                 |          |\n",
      "|    fps                | 165      |\n",
      "|    iterations         | 200      |\n",
      "|    time_elapsed       | 3404     |\n",
      "|    total_timesteps    | 563800   |\n",
      "| train/                |          |\n",
      "|    entropy_loss       | -8.32    |\n",
      "|    explained_variance | -0.00049 |\n",
      "|    learning_rate      | 5e-07    |\n",
      "|    n_updates          | 199      |\n",
      "|    policy_loss        | 39.5     |\n",
      "|    value_loss         | 2.71e+03 |\n",
      "------------------------------------\n",
      "------------------------------------\n",
      "| rollout/              |          |\n",
      "|    ep_len_mean        | 1.05e+04 |\n",
      "|    ep_rew_mean        | 3e+04    |\n",
      "| time/                 |          |\n",
      "|    fps                | 167      |\n",
      "|    iterations         | 300      |\n",
      "|    time_elapsed       | 5060     |\n",
      "|    total_timesteps    | 845700   |\n",
      "| train/                |          |\n",
      "|    entropy_loss       | -8.32    |\n",
      "|    explained_variance | 0.000419 |\n",
      "|    learning_rate      | 5e-07    |\n",
      "|    n_updates          | 299      |\n",
      "|    policy_loss        | 58.6     |\n",
      "|    value_loss         | 3.38e+03 |\n",
      "------------------------------------\n",
      "Model saved to ./models/a2c_streetfighter_model\n",
      "Mean reward: 69300.0\n"
     ]
    }
   ],
   "source": [
    "import os\n",
    "import numpy as np\n",
    "import cv2\n",
    "import retro\n",
    "from gym import Env\n",
    "from gym.spaces import Box, MultiBinary\n",
    "from stable_baselines3 import A2C\n",
    "from stable_baselines3.common.vec_env import DummyVecEnv, VecFrameStack\n",
    "from stable_baselines3.common.monitor import Monitor\n",
    "from stable_baselines3.common.evaluation import evaluate_policy\n",
    "from street_fighter_env import StreetFighter\n",
    "\n",
    "\n",
    "# Hyperparameters\n",
    "def get_hyperparameters():\n",
    "    return {\n",
    "        'n_steps': 2819,\n",
    "        'gamma': 0.8591916176596557,\n",
    "        'learning_rate': 5e-7\n",
    "    }\n",
    "\n",
    "# Environment Setup\n",
    "def create_environment():\n",
    "    env = StreetFighter()\n",
    "    env = Monitor(env, \"./logs/\")\n",
    "    env = DummyVecEnv([lambda: env])\n",
    "    env = VecFrameStack(env, 4, channels_order='last')\n",
    "    return env\n",
    "\n",
    "# Model Training\n",
    "def train_agent(hyperparameters):\n",
    "    try:\n",
    "        env = create_environment()\n",
    "\n",
    "        # Create algorithm\n",
    "        model = A2C(\n",
    "            'CnnPolicy',\n",
    "            env,\n",
    "            tensorboard_log=\"./logs/tensorboard-A2C/\",\n",
    "            verbose=1,\n",
    "            n_steps=hyperparameters['n_steps'],\n",
    "            gamma=hyperparameters['gamma'],\n",
    "            learning_rate=hyperparameters['learning_rate']\n",
    "        )\n",
    "\n",
    "        # Train the model\n",
    "        model.learn(total_timesteps=1000000)\n",
    "\n",
    "        # Save the model\n",
    "        save_path = os.path.join(\"./models/\", 'a2c_streetfighter_model')\n",
    "        os.makedirs(os.path.dirname(save_path), exist_ok=True)\n",
    "        model.save(save_path)\n",
    "        print(f\"Model saved to {save_path}\")\n",
    "\n",
    "        # Evaluate model\n",
    "        mean_reward, _ = evaluate_policy(model, env, n_eval_episodes=5)\n",
    "        env.close()\n",
    "\n",
    "        return mean_reward\n",
    "\n",
    "    except Exception as e:\n",
    "        print(f\"Error during training: {e}\")\n",
    "        return -1000\n",
    "\n",
    "# Main Execution\n",
    "if __name__ == \"__main__\":\n",
    "    hyperparameters = get_hyperparameters()\n",
    "    mean_reward = train_agent(hyperparameters)\n",
    "    print(f\"Mean reward: {mean_reward}\")\n"
   ]
  },
  {
   "cell_type": "markdown",
   "metadata": {},
   "source": [
    "## Evaluate the model\n",
    "Load the pre trained model A2C, to play the game"
   ]
  },
  {
   "cell_type": "code",
   "execution_count": null,
   "metadata": {},
   "outputs": [],
   "source": [
    "from gym import Env\n",
    "from gym.spaces import Discrete, Box, MultiBinary\n",
    "import numpy as np\n",
    "import cv2\n",
    "model = PPO.load('./models/a2c_streetfighter_model')"
   ]
  },
  {
   "cell_type": "code",
   "execution_count": null,
   "metadata": {},
   "outputs": [],
   "source": [
    "env.close()\n",
    "env = StreetFighter()\n",
    "env = Monitor(env)\n",
    "env = DummyVecEnv([lambda: env])\n",
    "env = VecFrameStack(env, 4, channels_order='last')"
   ]
  },
  {
   "cell_type": "code",
   "execution_count": null,
   "metadata": {},
   "outputs": [],
   "source": [
    "for episode in range(3): \n",
    "    obs = env.reset()\n",
    "    done = False\n",
    "    total_reward = 0\n",
    "    while not done: \n",
    "        action, _ = model.predict(obs)\n",
    "        obs, reward, done, info = env.step(action)\n",
    "        env.render()\n",
    "        # time.sleep(0.01)\n",
    "        total_reward += reward\n",
    "    print('Total Reward is {} for episode {}'.format(total_reward, episode))\n",
    "    time.sleep(2)"
   ]
  }
 ],
 "metadata": {
  "kernelspec": {
   "display_name": ".venv",
   "language": "python",
   "name": "python3"
  },
  "language_info": {
   "codemirror_mode": {
    "name": "ipython",
    "version": 3
   },
   "file_extension": ".py",
   "mimetype": "text/x-python",
   "name": "python",
   "nbconvert_exporter": "python",
   "pygments_lexer": "ipython3",
   "version": "3.8.10"
  }
 },
 "nbformat": 4,
 "nbformat_minor": 2
}
